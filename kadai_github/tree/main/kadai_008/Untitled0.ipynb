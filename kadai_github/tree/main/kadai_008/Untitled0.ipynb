{
  "nbformat": 4,
  "nbformat_minor": 0,
  "metadata": {
    "colab": {
      "provenance": []
    },
    "kernelspec": {
      "name": "python3",
      "display_name": "Python 3"
    },
    "language_info": {
      "name": "python"
    }
  },
  "cells": [
    {
      "cell_type": "code",
      "source": [
        "import random\n",
        "var = random.randint(1, 100)\n",
        "\n",
        "if var % 3 == 0 and var % 5 == 0:\n",
        "    print(\"FizzBuzz\", var)\n",
        "\n",
        "elif var % 3 == 0:\n",
        "    print(\"Fizz\", var)\n",
        "\n",
        "elif var % 5 == 0:\n",
        "    print(\"Buzz\", var)\n",
        "\n",
        "else:\n",
        "    print(\"varの値は\", var)"
      ],
      "metadata": {
        "colab": {
          "base_uri": "https://localhost:8080/"
        },
        "id": "6lThBea-OiaS",
        "outputId": "14f8bf5e-c443-477c-c8a4-357e4ba7bee1"
      },
      "execution_count": 1,
      "outputs": [
        {
          "output_type": "stream",
          "name": "stdout",
          "text": [
            "varの値は 79\n"
          ]
        }
      ]
    }
  ]
}