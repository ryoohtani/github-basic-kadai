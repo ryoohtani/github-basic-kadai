{
  "nbformat": 4,
  "nbformat_minor": 0,
  "metadata": {
    "colab": {
      "provenance": []
    },
    "kernelspec": {
      "name": "python3",
      "display_name": "Python 3"
    },
    "language_info": {
      "name": "python"
    }
  },
  "cells": [
    {
      "cell_type": "code",
      "source": [
        "class Human:\n",
        "    def __init__ (self, age, name):\n",
        "        self.age = age\n",
        "        self.name = name\n",
        "\n",
        "    def check_adult(self):\n",
        "        if 20 <= self.age:\n",
        "            print(f\"{self.name}は{self.age}なので大人です\")\n",
        "        else:\n",
        "            print(f\"{self.name}は{self.age}なので大人ではないです\")\n",
        "\n",
        "ufc_a = Human(10, \"マカチェフ\")\n",
        "ufc_b = Human(15, \"ペレイラ\")\n",
        "ufc_c = Human(20, \"ジョーンズ\")\n",
        "ufc_d = Human(25, \"トプリア\")\n",
        "\n",
        "Human_table = [ufc_a, ufc_b, ufc_c, ufc_d]\n",
        "\n",
        "for i in Human_table:\n",
        "    i.check_adult()"
      ],
      "metadata": {
        "id": "hAgChbzUmRSR",
        "outputId": "634c2322-928f-48db-ce20-70acd67538ed",
        "colab": {
          "base_uri": "https://localhost:8080/"
        }
      },
      "execution_count": 1,
      "outputs": [
        {
          "output_type": "stream",
          "name": "stdout",
          "text": [
            "マカチェフは10なので大人ではないです\n",
            "ペレイラは15なので大人ではないです\n",
            "ジョーンズは20なので大人です\n",
            "トプリアは25なので大人です\n"
          ]
        }
      ]
    }
  ]
}