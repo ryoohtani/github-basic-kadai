{
  "nbformat": 4,
  "nbformat_minor": 0,
  "metadata": {
    "colab": {
      "provenance": []
    },
    "kernelspec": {
      "name": "python3",
      "display_name": "Python 3"
    },
    "language_info": {
      "name": "python"
    }
  },
  "cells": [
    {
      "cell_type": "code",
      "source": [
        "class Human:\n",
        "    def __init__(self, age, name):\n",
        "        self.age = age\n",
        "        self.name = name\n",
        "\n",
        "    def check_adult(self):\n",
        "        if self.age >= 20:\n",
        "            print(f\"{self.name}は大人です\")\n",
        "        else:\n",
        "            print(f\"{self.name}は大人ではありません\")\n",
        "\n",
        "human_table = [(5, \"マカチェフ\"), (10, \"ペレイラ\"), (15, \"ジョーンズ\"), (20, \"トプリア\"), (25, \"ベラル\")]\n",
        "\n",
        "for age, name in human_table:\n",
        "    human_data = Human(age, name)\n",
        "    human_data.check_adult()"
      ],
      "metadata": {
        "colab": {
          "base_uri": "https://localhost:8080/"
        },
        "id": "oVxn8u6f_xwp",
        "outputId": "d96a4eb8-13a4-4068-b6b6-118767b4a1ce"
      },
      "execution_count": 1,
      "outputs": [
        {
          "output_type": "stream",
          "name": "stdout",
          "text": [
            "マカチェフは大人ではありません\n",
            "ペレイラは大人ではありません\n",
            "ジョーンズは大人ではありません\n",
            "トプリアは大人です\n",
            "ベラルは大人です\n"
          ]
        }
      ]
    }
  ]
}