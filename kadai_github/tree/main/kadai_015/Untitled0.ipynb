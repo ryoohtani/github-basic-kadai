{
  "nbformat": 4,
  "nbformat_minor": 0,
  "metadata": {
    "colab": {
      "provenance": []
    },
    "kernelspec": {
      "name": "python3",
      "display_name": "Python 3"
    },
    "language_info": {
      "name": "python"
    }
  },
  "cells": [
    {
      "cell_type": "code",
      "source": [
        "class Human:\n",
        "    def __init__(self, name, age):\n",
        "        self.name = name\n",
        "        self.age = age\n",
        "\n",
        "    def printinfo(self):\n",
        "        print(self.name)\n",
        "        print(self.age)\n",
        "\n",
        "a_human = Human(\"日本太郎\", 50)\n",
        "a_human.printinfo()"
      ],
      "metadata": {
        "colab": {
          "base_uri": "https://localhost:8080/"
        },
        "id": "4iqyPhtKjkgD",
        "outputId": "e2ba52fd-fd5c-438a-84e1-307b881fa9e6"
      },
      "execution_count": 3,
      "outputs": [
        {
          "output_type": "stream",
          "name": "stdout",
          "text": [
            "日本太郎\n",
            "50\n"
          ]
        }
      ]
    }
  ]
}