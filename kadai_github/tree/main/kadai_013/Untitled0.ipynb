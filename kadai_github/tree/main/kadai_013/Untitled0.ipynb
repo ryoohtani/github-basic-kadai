{
  "nbformat": 4,
  "nbformat_minor": 0,
  "metadata": {
    "colab": {
      "provenance": []
    },
    "kernelspec": {
      "name": "python3",
      "display_name": "Python 3"
    },
    "language_info": {
      "name": "python"
    }
  },
  "cells": [
    {
      "cell_type": "code",
      "source": [
        "\"\"\"\n",
        "消費税が現在１０％\n",
        "消費税 = 商品価格 * 0.1\n",
        "100 = 1000 * 0.1\n",
        "\n",
        "消費税を含む商品合計は１１００円\n",
        "\"\"\"\n",
        "\n",
        "def calculate_total_price(price: int, tax_rate: float) -> float:\n",
        "    tax = price * tax_rate\n",
        "    total_price = price + tax\n",
        "    return total_price\n",
        "\n",
        "total = calculate_total_price(2500, 0.1)\n",
        "print(total)"
      ],
      "metadata": {
        "colab": {
          "base_uri": "https://localhost:8080/"
        },
        "id": "ab4oghBKXt8b",
        "outputId": "bcb925b2-4447-48e2-a751-3e72ba08eb01"
      },
      "execution_count": 1,
      "outputs": [
        {
          "output_type": "stream",
          "name": "stdout",
          "text": [
            "2750.0\n"
          ]
        }
      ]
    }
  ]
}