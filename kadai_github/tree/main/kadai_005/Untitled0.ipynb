{
  "nbformat": 4,
  "nbformat_minor": 0,
  "metadata": {
    "colab": {
      "provenance": []
    },
    "kernelspec": {
      "name": "python3",
      "display_name": "Python 3"
    },
    "language_info": {
      "name": "python"
    }
  },
  "cells": [
    {
      "cell_type": "code",
      "execution_count": 2,
      "metadata": {
        "colab": {
          "base_uri": "https://localhost:8080/"
        },
        "id": "9uyvwe-zbTcO",
        "outputId": "8f561695-dae5-41b1-bd49-bc50090c5a08"
      },
      "outputs": [
        {
          "output_type": "stream",
          "name": "stdout",
          "text": [
            "75.0\n"
          ]
        }
      ],
      "source": [
        "uwabe = 10\n",
        "simobe = 20\n",
        "takasa = 5\n",
        "\n",
        "menseki = (uwabe + simobe) * takasa / 2\n",
        "\n",
        "print(menseki)"
      ]
    }
  ]
}